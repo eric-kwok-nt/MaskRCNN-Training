{
 "cells": [
  {
   "cell_type": "code",
   "execution_count": 1,
   "metadata": {},
   "outputs": [
    {
     "name": "stdout",
     "output_type": "stream",
     "text": [
      "Migrating database to v0.16.2\n"
     ]
    }
   ],
   "source": [
    "import fiftyone as fo"
   ]
  },
  {
   "cell_type": "code",
   "execution_count": 4,
   "metadata": {},
   "outputs": [
    {
     "name": "stdout",
     "output_type": "stream",
     "text": [
      "Downloading split 'train' to '../data/train' if necessary\n",
      "Downloading annotations to '../data/tmp-download/annotations_trainval2017.zip'\n",
      " 100% |██████|    1.9Gb/1.9Gb [40.1s elapsed, 0s remaining, 52.9Mb/s]      \n",
      "Extracting annotations to '../data/raw/instances_train2017.json'\n",
      "Downloading images to '../data/tmp-download/train2017.zip'\n",
      " 100% |████|  144.1Gb/144.1Gb [29.1m elapsed, 0s remaining, 120.4Mb/s]      \n",
      "Extracting images to '../data/train/data'\n",
      "Writing annotations to '../data/train/labels.json'\n",
      "Dataset info written to '../data/info.json'\n",
      "Ignoring unsupported parameter 'max_sample' for importer type <class 'fiftyone.utils.coco.COCODetectionDatasetImporter'>\n",
      "Loading 'coco-2017' split 'train'\n",
      " 100% |███████████| 118287/118287 [9.1m elapsed, 0s remaining, 272.2 samples/s]      \n",
      "Dataset 'coco-2017-train' created\n"
     ]
    }
   ],
   "source": [
    "dataset = fo.zoo.datasets.load_zoo_dataset(\"coco-2017\", split=\"train\", dataset_dir=\"../data\", max_sample=50, shuffle=True)"
   ]
  }
 ],
 "metadata": {
  "interpreter": {
   "hash": "d1d337275c66143beda884db87fb00a8e64227845b20f6b11ee2a817213ca931"
  },
  "kernelspec": {
   "display_name": "Python 3.8.13 ('train_maskrcnn': conda)",
   "language": "python",
   "name": "python3"
  },
  "language_info": {
   "codemirror_mode": {
    "name": "ipython",
    "version": 3
   },
   "file_extension": ".py",
   "mimetype": "text/x-python",
   "name": "python",
   "nbconvert_exporter": "python",
   "pygments_lexer": "ipython3",
   "version": "3.8.13"
  },
  "orig_nbformat": 4
 },
 "nbformat": 4,
 "nbformat_minor": 2
}
